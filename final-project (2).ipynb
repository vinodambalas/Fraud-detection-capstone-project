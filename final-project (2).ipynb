{
 "cells": [
  {
   "cell_type": "markdown",
   "metadata": {
    "execution": {
     "iopub.execute_input": "2024-04-29T04:50:15.448734Z",
     "iopub.status.busy": "2024-04-29T04:50:15.448429Z",
     "iopub.status.idle": "2024-04-29T04:50:15.461721Z",
     "shell.execute_reply": "2024-04-29T04:50:15.460676Z",
     "shell.execute_reply.started": "2024-04-29T04:50:15.448707Z"
    }
   },
   "source": [
    "# Project — IEEE Fraud Detection\n"
   ]
  },
  {
   "cell_type": "markdown",
   "metadata": {},
   "source": [
    "# Context 🌟\n",
    "\n",
    "### Introduction 🚀\n",
    "\n",
    "### Importance 🌟\n",
    "\n",
    "### Objective 🎯\n",
    "\n",
    "### Dataset Overview 📊\n",
    "\n",
    "### Data Exploration 🔍\n",
    "\n",
    "### Data Preprocessing 🛠️\n",
    "\n",
    "### Data Imputation and Encoding 💡\n",
    "\n",
    "### Analysis of Fraudulent Transactions Distribution 📈\n",
    "\n",
    "### Data Encoding for Modeling 🎨\n",
    "\n",
    "### Random Forest Classifier Evaluation 🌳\n",
    "\n",
    "### XGBoost Classifier Evaluation with PCA 🚀\n",
    "\n",
    "### Applying SMOTE for Imbalanced Data 🔄\n"
   ]
  },
  {
   "cell_type": "markdown",
   "metadata": {
    "execution": {
     "iopub.execute_input": "2024-04-29T23:05:21.610086Z",
     "iopub.status.busy": "2024-04-29T23:05:21.609713Z",
     "iopub.status.idle": "2024-04-29T23:05:21.622376Z",
     "shell.execute_reply": "2024-04-29T23:05:21.621247Z",
     "shell.execute_reply.started": "2024-04-29T23:05:21.610053Z"
    }
   },
   "source": [
    "# Introduction\n",
    "\n",
    "Fraud detection in financial transactions is the process of identifying and \n",
    "preventing deceptive activities within financial systems. It plays a crucial role in safeguarding the integrity \n",
    "and trustworthiness of transactions, particularly in an era dominated by digital payments and online commerce.\n"
   ]
  },
  {
   "cell_type": "markdown",
   "metadata": {},
   "source": [
    "# Importance of Fraud Detection for Businesses and Financial Institutions\n",
    "\n",
    "Fraud detection holds immense significance for businesses and financial institutions due to several key reasons:\n",
    "\n",
    "### Financial Loss Prevention\n",
    "\n",
    "Fraudulent activities can result in substantial financial losses for businesses and financial institutions. By detecting and preventing fraud early on, organizations can minimize their financial exposure and protect their assets.\n",
    "\n",
    "### Preservation of Reputation\n",
    "\n",
    "Instances of fraud can tarnish the reputation of businesses and financial institutions, eroding customer trust and confidence. Effective fraud detection measures help to maintain a positive reputation and foster trust among stakeholders.\n",
    "\n",
    "### Regulatory Compliance\n",
    "\n",
    "Compliance with regulatory standards and requirements is essential for businesses and financial institutions. Implementing robust fraud detection mechanisms ensures adherence to regulatory guidelines and reduces the risk of non-compliance penalties.\n",
    "\n",
    "### Customer Protection\n",
    "\n",
    "Fraudulent transactions can adversely affect customers, leading to financial hardship and identity theft. By detecting and preventing fraud, businesses and financial institutions uphold their duty to protect customers from potential harm.\n",
    "\n",
    "### Operational Efficiency\n",
    "\n",
    "Fraudulent activities can disrupt normal business operations and hinder productivity. Implementing efficient fraud detection systems helps streamline processes and maintain operational efficiency.\n"
   ]
  },
  {
   "cell_type": "markdown",
   "metadata": {},
   "source": [
    "# Objective of the Project\n",
    "\n",
    "The primary objective of this project is to develop an advanced fraud detection system using machine learning techniques. Specifically, the project aims to:\n",
    "\n",
    "### Utilize Historical Transaction Data\n",
    "\n",
    "- Analyze historical transaction data to identify patterns and anomalies indicative of fraudulent behavior.\n",
    "\n",
    "### Implement Machine Learning Algorithms\n",
    "\n",
    "- Employ state-of-the-art machine learning algorithms to build predictive models capable of accurately detecting fraudulent transactions in real-time.\n",
    "\n",
    "### Enhance Detection Accuracy\n",
    "\n",
    "- Improve the accuracy and effectiveness of fraud detection by leveraging advanced algorithms and feature engineering techniques.\n",
    "\n",
    "### Enable Real-time Monitoring\n",
    "\n",
    "- Develop a system for real-time monitoring of transactions, enabling prompt detection and response to fraudulent activities.\n",
    "\n",
    "### Contribute to Fraud Prevention Efforts\n",
    "\n",
    "- Contribute to the ongoing efforts to combat financial fraud by providing businesses and financial institutions with a reliable and efficient fraud detection solution.\n"
   ]
  },
  {
   "cell_type": "markdown",
   "metadata": {},
   "source": [
    "# Dataset Overview\n",
    "\n",
    "## Description of the Dataset\n",
    "\n",
    "### Description:\n",
    "The dataset provided consists of financial transaction data aimed at fraud detection. It includes information about transactions and their associated fraud probabilities. Each row represents a unique transaction identified by a TransactionID, with a corresponding probability of fraud indicated by the isFraud column.\n",
    "\n",
    "### Source and Format:\n",
    "\n",
    "#### Source:\n",
    "transaction_df = pd.read_csv(\"/kaggle/input/ieee-fraud-detection/train_transaction.csv\")\n",
    "identity_df = pd.read_csv(\"/kaggle/input/ieee-fraud-detection/train_identity.csv\")\n",
    "\n",
    "#### Format:\n",
    "The data is presented in CSV (Comma-Separated Values) format, which is commonly used for tabular data storage and exchange.\n",
    "\n",
    "## Explanation of the Transaction and Identity Data Components\n",
    "\n",
    "### Transaction Data:\n",
    "\n",
    "The transaction data comprises the primary information regarding each financial transaction, including unique identifiers (TransactionID) and associated probabilities of fraud (isFraud).\n",
    "\n",
    "- This dataset does not explicitly include details about individual transactions, such as transaction amount, product code, or card information, as seen in more comprehensive fraud detection datasets.\n",
    "\n",
    "### Identity Data:\n",
    "\n",
    "Identity-related information associated with transactions, such as user identification, device information, and browser details, is not included in this dataset.\n",
    "\n",
    "- Unlike other fraud detection datasets, this dataset focuses solely on the probability of fraud associated with each transaction without providing additional transaction or identity details.\n"
   ]
  },
  {
   "cell_type": "code",
   "execution_count": 1,
   "metadata": {
    "execution": {
     "iopub.execute_input": "2024-04-30T02:03:03.881336Z",
     "iopub.status.busy": "2024-04-30T02:03:03.880491Z",
     "iopub.status.idle": "2024-04-30T02:03:04.902720Z",
     "shell.execute_reply": "2024-04-30T02:03:04.901739Z",
     "shell.execute_reply.started": "2024-04-30T02:03:03.881288Z"
    }
   },
   "outputs": [
    {
     "name": "stdout",
     "output_type": "stream",
     "text": [
      "/kaggle/input/ieee-fraud-detection/sample_submission.csv\n",
      "/kaggle/input/ieee-fraud-detection/test_identity.csv\n",
      "/kaggle/input/ieee-fraud-detection/train_identity.csv\n",
      "/kaggle/input/ieee-fraud-detection/test_transaction.csv\n",
      "/kaggle/input/ieee-fraud-detection/train_transaction.csv\n"
     ]
    }
   ],
   "source": [
    "# This Python 3 environment comes with many helpful analytics libraries installed\n",
    "# It is defined by the kaggle/python Docker image: https://github.com/kaggle/docker-python\n",
    "# For example, here's several helpful packages to load\n",
    "\n",
    "import numpy as np # linear algebra\n",
    "import pandas as pd # data processing, CSV file I/O (e.g. pd.read_csv)\n",
    "\n",
    "# Input data files are available in the read-only \"../input/\" directory\n",
    "# For example, running this (by clicking run or pressing Shift+Enter) will list all files under the input directory\n",
    "\n",
    "import os\n",
    "for dirname, _, filenames in os.walk('/kaggle/input'):\n",
    "    for filename in filenames:\n",
    "        print(os.path.join(dirname, filename))\n",
    "\n",
    "# You can write up to 20GB to the current directory (/kaggle/working/) that gets preserved as output when you create a version using \"Save & Run All\" \n",
    "# You can also write temporary files to /kaggle/temp/, but they won't be saved outside of the current session"
   ]
  },
  {
   "cell_type": "markdown",
   "metadata": {},
   "source": [
    "# Data Exploration\n",
    "\n",
    "## Summary of `train_df.info()` Output:\n",
    "\n",
    "- **Total Number of Entries (Rows):** The dataset contains a total of 590540 entries or rows.\n",
    "- **Total Number of Features (Columns):** There are 434 features or columns present in the dataset.\n",
    "- **Data Types of Features:**\n",
    "  - Numerical Features: There are 4 features with data type `int64` and 399 features with data type `float64`.\n",
    "  - Categorical Features: There are 31 features with data type `object`.\n",
    "- **Presence of Missing Values:**\n",
    "  - The dataset contains missing values.\n",
    "  - Among the features, some have missing values, as indicated by the presence of `NaN`.\n",
    "  - The percentage of missing values for each feature varies, with some features having a significant proportion of missing values.\n",
    "\n",
    "## Display of the First Few Rows (`train_df.head()`):\n",
    "\n",
    "Display the first few rows of the dataset using `train_df.head()` to provide a glimpse of its structure and content.\n",
    "\n",
    "### Output of `train_df.head()`:\n",
    "\n",
    "|   | TransactionID | isFraud | TransactionDT | TransactionAmt | ProductCD | card1 | card2 | card3 | card4 | card5 | ... | V312 | V313 | V314 | V315 | V316 | V317 | V318 | V319 | V320 | V321 |\n",
    "|---|---------------|---------|---------------|----------------|-----------|-------|-------|-------|-------|-------|-----|------|------|------|------|------|------|------|------|------|------|\n",
    "| 0 | 2987000       | 0       | 86400         | 68.5           | W         | 13926 | NaN   | 150.0 | discover | 142.0 | ... | 0.0  | 0.0  | 0.0  | 0.0  | 0.0  | 117.0| 0.0  | 0.0  | 0.0  | 0.0  |\n",
    "| 1 | 2987001       | 0       | 86401         | 29.0           | W         | 2755  | 404.0 | 150.0 | mastercard | 102.0 | ... | 0.0  | 0.0  | 0.0  | 0.0  | 0.0  | 0.0  | 0.0  | 0.0  | 0.0  | 0.0  |\n",
    "| 2 | 2987002       | 0       | 86469         | 59.0           | W         | 4663  | 490.0 | 150.0 | visa       | 166.0 | ... | 0.0  | 0.0  | 0.0  | 0.0  | 0.0  | 0.0  | 0.0  | 0.0  | 0.0  | 0.0  |\n",
    "| 3 | 2987003       | 0       | 86499         | 50.0           | W         | 18132 | 567.0 | 150.0 | mastercard | 117.0 | ... | 135.0| 0.0  | 0.0  | 0.0  | 50.0 | 1404.0| 790.0| 0.0  | 0.0  | 0.0  |\n",
    "| 4 | 2987004       | 0       | 86506         | 50.0           | H         | 4497  | 514.0 | 150.0 | mastercard | 102.0 | ... | 0.0  | 0.0  | 0.0  | 0.0  | 0.0  | 0.0  | 0.0  | 0.0  | 0.0  | 0.0  |\n",
    "\n"
   ]
  },
  {
   "cell_type": "code",
   "execution_count": 2,
   "metadata": {
    "execution": {
     "iopub.execute_input": "2024-04-30T02:03:04.905244Z",
     "iopub.status.busy": "2024-04-30T02:03:04.904800Z",
     "iopub.status.idle": "2024-04-30T02:03:43.510421Z",
     "shell.execute_reply": "2024-04-30T02:03:43.509479Z",
     "shell.execute_reply.started": "2024-04-30T02:03:04.905186Z"
    }
   },
   "outputs": [
    {
     "name": "stdout",
     "output_type": "stream",
     "text": [
      "<class 'pandas.core.frame.DataFrame'>\n",
      "RangeIndex: 590540 entries, 0 to 590539\n",
      "Columns: 434 entries, TransactionID to DeviceInfo\n",
      "dtypes: float64(399), int64(4), object(31)\n",
      "memory usage: 1.9+ GB\n"
     ]
    },
    {
     "data": {
      "text/html": [
       "<div>\n",
       "<style scoped>\n",
       "    .dataframe tbody tr th:only-of-type {\n",
       "        vertical-align: middle;\n",
       "    }\n",
       "\n",
       "    .dataframe tbody tr th {\n",
       "        vertical-align: top;\n",
       "    }\n",
       "\n",
       "    .dataframe thead th {\n",
       "        text-align: right;\n",
       "    }\n",
       "</style>\n",
       "<table border=\"1\" class=\"dataframe\">\n",
       "  <thead>\n",
       "    <tr style=\"text-align: right;\">\n",
       "      <th></th>\n",
       "      <th>TransactionID</th>\n",
       "      <th>isFraud</th>\n",
       "      <th>TransactionDT</th>\n",
       "      <th>TransactionAmt</th>\n",
       "      <th>ProductCD</th>\n",
       "      <th>card1</th>\n",
       "      <th>card2</th>\n",
       "      <th>card3</th>\n",
       "      <th>card4</th>\n",
       "      <th>card5</th>\n",
       "      <th>...</th>\n",
       "      <th>id_31</th>\n",
       "      <th>id_32</th>\n",
       "      <th>id_33</th>\n",
       "      <th>id_34</th>\n",
       "      <th>id_35</th>\n",
       "      <th>id_36</th>\n",
       "      <th>id_37</th>\n",
       "      <th>id_38</th>\n",
       "      <th>DeviceType</th>\n",
       "      <th>DeviceInfo</th>\n",
       "    </tr>\n",
       "  </thead>\n",
       "  <tbody>\n",
       "    <tr>\n",
       "      <th>0</th>\n",
       "      <td>2987000</td>\n",
       "      <td>0</td>\n",
       "      <td>86400</td>\n",
       "      <td>68.5</td>\n",
       "      <td>W</td>\n",
       "      <td>13926</td>\n",
       "      <td>NaN</td>\n",
       "      <td>150.0</td>\n",
       "      <td>discover</td>\n",
       "      <td>142.0</td>\n",
       "      <td>...</td>\n",
       "      <td>NaN</td>\n",
       "      <td>NaN</td>\n",
       "      <td>NaN</td>\n",
       "      <td>NaN</td>\n",
       "      <td>NaN</td>\n",
       "      <td>NaN</td>\n",
       "      <td>NaN</td>\n",
       "      <td>NaN</td>\n",
       "      <td>NaN</td>\n",
       "      <td>NaN</td>\n",
       "    </tr>\n",
       "    <tr>\n",
       "      <th>1</th>\n",
       "      <td>2987001</td>\n",
       "      <td>0</td>\n",
       "      <td>86401</td>\n",
       "      <td>29.0</td>\n",
       "      <td>W</td>\n",
       "      <td>2755</td>\n",
       "      <td>404.0</td>\n",
       "      <td>150.0</td>\n",
       "      <td>mastercard</td>\n",
       "      <td>102.0</td>\n",
       "      <td>...</td>\n",
       "      <td>NaN</td>\n",
       "      <td>NaN</td>\n",
       "      <td>NaN</td>\n",
       "      <td>NaN</td>\n",
       "      <td>NaN</td>\n",
       "      <td>NaN</td>\n",
       "      <td>NaN</td>\n",
       "      <td>NaN</td>\n",
       "      <td>NaN</td>\n",
       "      <td>NaN</td>\n",
       "    </tr>\n",
       "    <tr>\n",
       "      <th>2</th>\n",
       "      <td>2987002</td>\n",
       "      <td>0</td>\n",
       "      <td>86469</td>\n",
       "      <td>59.0</td>\n",
       "      <td>W</td>\n",
       "      <td>4663</td>\n",
       "      <td>490.0</td>\n",
       "      <td>150.0</td>\n",
       "      <td>visa</td>\n",
       "      <td>166.0</td>\n",
       "      <td>...</td>\n",
       "      <td>NaN</td>\n",
       "      <td>NaN</td>\n",
       "      <td>NaN</td>\n",
       "      <td>NaN</td>\n",
       "      <td>NaN</td>\n",
       "      <td>NaN</td>\n",
       "      <td>NaN</td>\n",
       "      <td>NaN</td>\n",
       "      <td>NaN</td>\n",
       "      <td>NaN</td>\n",
       "    </tr>\n",
       "    <tr>\n",
       "      <th>3</th>\n",
       "      <td>2987003</td>\n",
       "      <td>0</td>\n",
       "      <td>86499</td>\n",
       "      <td>50.0</td>\n",
       "      <td>W</td>\n",
       "      <td>18132</td>\n",
       "      <td>567.0</td>\n",
       "      <td>150.0</td>\n",
       "      <td>mastercard</td>\n",
       "      <td>117.0</td>\n",
       "      <td>...</td>\n",
       "      <td>NaN</td>\n",
       "      <td>NaN</td>\n",
       "      <td>NaN</td>\n",
       "      <td>NaN</td>\n",
       "      <td>NaN</td>\n",
       "      <td>NaN</td>\n",
       "      <td>NaN</td>\n",
       "      <td>NaN</td>\n",
       "      <td>NaN</td>\n",
       "      <td>NaN</td>\n",
       "    </tr>\n",
       "    <tr>\n",
       "      <th>4</th>\n",
       "      <td>2987004</td>\n",
       "      <td>0</td>\n",
       "      <td>86506</td>\n",
       "      <td>50.0</td>\n",
       "      <td>H</td>\n",
       "      <td>4497</td>\n",
       "      <td>514.0</td>\n",
       "      <td>150.0</td>\n",
       "      <td>mastercard</td>\n",
       "      <td>102.0</td>\n",
       "      <td>...</td>\n",
       "      <td>samsung browser 6.2</td>\n",
       "      <td>32.0</td>\n",
       "      <td>2220x1080</td>\n",
       "      <td>match_status:2</td>\n",
       "      <td>T</td>\n",
       "      <td>F</td>\n",
       "      <td>T</td>\n",
       "      <td>T</td>\n",
       "      <td>mobile</td>\n",
       "      <td>SAMSUNG SM-G892A Build/NRD90M</td>\n",
       "    </tr>\n",
       "  </tbody>\n",
       "</table>\n",
       "<p>5 rows × 434 columns</p>\n",
       "</div>"
      ],
      "text/plain": [
       "   TransactionID  isFraud  TransactionDT  TransactionAmt ProductCD  card1  \\\n",
       "0        2987000        0          86400            68.5         W  13926   \n",
       "1        2987001        0          86401            29.0         W   2755   \n",
       "2        2987002        0          86469            59.0         W   4663   \n",
       "3        2987003        0          86499            50.0         W  18132   \n",
       "4        2987004        0          86506            50.0         H   4497   \n",
       "\n",
       "   card2  card3       card4  card5  ...                id_31  id_32  \\\n",
       "0    NaN  150.0    discover  142.0  ...                  NaN    NaN   \n",
       "1  404.0  150.0  mastercard  102.0  ...                  NaN    NaN   \n",
       "2  490.0  150.0        visa  166.0  ...                  NaN    NaN   \n",
       "3  567.0  150.0  mastercard  117.0  ...                  NaN    NaN   \n",
       "4  514.0  150.0  mastercard  102.0  ...  samsung browser 6.2   32.0   \n",
       "\n",
       "       id_33           id_34  id_35 id_36 id_37  id_38  DeviceType  \\\n",
       "0        NaN             NaN    NaN   NaN   NaN    NaN         NaN   \n",
       "1        NaN             NaN    NaN   NaN   NaN    NaN         NaN   \n",
       "2        NaN             NaN    NaN   NaN   NaN    NaN         NaN   \n",
       "3        NaN             NaN    NaN   NaN   NaN    NaN         NaN   \n",
       "4  2220x1080  match_status:2      T     F     T      T      mobile   \n",
       "\n",
       "                      DeviceInfo  \n",
       "0                            NaN  \n",
       "1                            NaN  \n",
       "2                            NaN  \n",
       "3                            NaN  \n",
       "4  SAMSUNG SM-G892A Build/NRD90M  \n",
       "\n",
       "[5 rows x 434 columns]"
      ]
     },
     "execution_count": 2,
     "metadata": {},
     "output_type": "execute_result"
    }
   ],
   "source": [
    "import pandas as pd\n",
    "\n",
    "\n",
    "transaction_df = pd.read_csv(\"/kaggle/input/ieee-fraud-detection/train_transaction.csv\")\n",
    "identity_df = pd.read_csv(\"/kaggle/input/ieee-fraud-detection/train_identity.csv\")\n",
    "train_df = transaction_df.merge(identity_df, on='TransactionID', how='left')\n",
    "\n",
    "train_df.info()\n",
    "train_df.head()"
   ]
  },
  {
   "cell_type": "markdown",
   "metadata": {
    "execution": {
     "iopub.execute_input": "2024-04-29T23:21:51.726754Z",
     "iopub.status.busy": "2024-04-29T23:21:51.726397Z",
     "iopub.status.idle": "2024-04-29T23:21:51.735998Z",
     "shell.execute_reply": "2024-04-29T23:21:51.734821Z",
     "shell.execute_reply.started": "2024-04-29T23:21:51.726725Z"
    }
   },
   "source": [
    "## Preprocessing Steps:\n",
    "\n",
    "### Handling Missing Values:\n",
    "\n",
    "- Identification of missing values using `train_df.isnull().sum()` to calculate the number and percentage of missing values for each feature.\n",
    "- Removal of columns with more than 60% missing values using a threshold set at 60%.\n",
    "- Imputation of missing values for numerical features using `SimpleImputer` with a strategy of `'median'`.\n",
    "- Imputation of missing values for categorical features with the constant value `'Unknown'` using `SimpleImputer`.\n",
    "\n",
    "Missing Values Summary:\n",
    "\n",
    "| Feature | Missing Values | Percentage |\n",
    "|---------|----------------|------------|\n",
    "| id_24   | 585793         | 99.196159% |\n",
    "| id_25   | 585408         | 99.130965% |\n",
    "| id_07   | 585385         | 99.127070% |\n",
    "| id_08   | 585385         | 99.127070% |\n",
    "| id_21   | 585381         | 99.126393% |\n",
    "| ...     | ...            | ...        |\n",
    "\n",
    "414 out of 434 features have missing values, with some of them having 99% of missing values, so we'll remove the variables/features that have more than 60% missing values.\n"
   ]
  },
  {
   "cell_type": "markdown",
   "metadata": {},
   "source": [
    "**Pre-processing**"
   ]
  },
  {
   "cell_type": "code",
   "execution_count": 3,
   "metadata": {
    "execution": {
     "iopub.execute_input": "2024-04-30T02:03:43.511871Z",
     "iopub.status.busy": "2024-04-30T02:03:43.511574Z",
     "iopub.status.idle": "2024-04-30T02:03:44.877092Z",
     "shell.execute_reply": "2024-04-30T02:03:44.876038Z",
     "shell.execute_reply.started": "2024-04-30T02:03:43.511845Z"
    }
   },
   "outputs": [
    {
     "name": "stdout",
     "output_type": "stream",
     "text": [
      "       missing_values  percentage\n",
      "id_24          585793   99.196159\n",
      "id_25          585408   99.130965\n",
      "id_07          585385   99.127070\n",
      "id_08          585385   99.127070\n",
      "id_21          585381   99.126393\n",
      "...               ...         ...\n",
      "V287               12    0.002032\n",
      "V290               12    0.002032\n",
      "V291               12    0.002032\n",
      "V279               12    0.002032\n",
      "V280               12    0.002032\n",
      "\n",
      "[414 rows x 2 columns]\n"
     ]
    }
   ],
   "source": [
    "missing_values = train_df.isnull().sum()\n",
    "missing_percentage = (missing_values / len(train_df)) * 100\n",
    "missing_df = pd.DataFrame({'missing_values': missing_values, 'percentage': missing_percentage})\n",
    "print(missing_df[missing_df['missing_values'] > 0].sort_values(by='percentage', ascending=False))\n"
   ]
  },
  {
   "cell_type": "markdown",
   "metadata": {},
   "source": [
    "****414 out of 432 features have missing values with some of them having 99% of missing values , so we'll remove the variables/features that has more than 60% missing values ****"
   ]
  },
  {
   "cell_type": "markdown",
   "metadata": {},
   "source": [
    "#### The below code removes columns with a high percentage of missing values, which are unlikely to contribute meaningfully to the analysis, thereby streamlining the dataset.\n"
   ]
  },
  {
   "cell_type": "code",
   "execution_count": 4,
   "metadata": {
    "execution": {
     "iopub.execute_input": "2024-04-30T02:03:44.879575Z",
     "iopub.status.busy": "2024-04-30T02:03:44.878709Z",
     "iopub.status.idle": "2024-04-30T02:03:45.229751Z",
     "shell.execute_reply": "2024-04-30T02:03:45.228728Z",
     "shell.execute_reply.started": "2024-04-30T02:03:44.879538Z"
    }
   },
   "outputs": [],
   "source": [
    "# Dropping columns \n",
    "\n",
    "\n",
    "#greater than 60%\n",
    "columns_to_drop = missing_percentage[missing_percentage > 60].index\n",
    "\n",
    "\n",
    "columns_to_drop = [col for col in columns_to_drop if col in train_df.columns]\n",
    "train_df.drop(columns=columns_to_drop, axis=1, inplace=True)\n"
   ]
  },
  {
   "cell_type": "markdown",
   "metadata": {},
   "source": [
    "## Display of the First Few Rows (`train_df.head()`):\n",
    "\n",
    "Display the first few rows of the dataset using `train_df.head()` to provide a glimpse of its structure and content.\n",
    "\n",
    "\n",
    "\n"
   ]
  },
  {
   "cell_type": "code",
   "execution_count": 5,
   "metadata": {
    "execution": {
     "iopub.execute_input": "2024-04-30T02:03:45.232584Z",
     "iopub.status.busy": "2024-04-30T02:03:45.232268Z",
     "iopub.status.idle": "2024-04-30T02:03:45.259781Z",
     "shell.execute_reply": "2024-04-30T02:03:45.258829Z",
     "shell.execute_reply.started": "2024-04-30T02:03:45.232558Z"
    }
   },
   "outputs": [
    {
     "data": {
      "text/html": [
       "<div>\n",
       "<style scoped>\n",
       "    .dataframe tbody tr th:only-of-type {\n",
       "        vertical-align: middle;\n",
       "    }\n",
       "\n",
       "    .dataframe tbody tr th {\n",
       "        vertical-align: top;\n",
       "    }\n",
       "\n",
       "    .dataframe thead th {\n",
       "        text-align: right;\n",
       "    }\n",
       "</style>\n",
       "<table border=\"1\" class=\"dataframe\">\n",
       "  <thead>\n",
       "    <tr style=\"text-align: right;\">\n",
       "      <th></th>\n",
       "      <th>TransactionID</th>\n",
       "      <th>isFraud</th>\n",
       "      <th>TransactionDT</th>\n",
       "      <th>TransactionAmt</th>\n",
       "      <th>ProductCD</th>\n",
       "      <th>card1</th>\n",
       "      <th>card2</th>\n",
       "      <th>card3</th>\n",
       "      <th>card4</th>\n",
       "      <th>card5</th>\n",
       "      <th>...</th>\n",
       "      <th>V312</th>\n",
       "      <th>V313</th>\n",
       "      <th>V314</th>\n",
       "      <th>V315</th>\n",
       "      <th>V316</th>\n",
       "      <th>V317</th>\n",
       "      <th>V318</th>\n",
       "      <th>V319</th>\n",
       "      <th>V320</th>\n",
       "      <th>V321</th>\n",
       "    </tr>\n",
       "  </thead>\n",
       "  <tbody>\n",
       "    <tr>\n",
       "      <th>0</th>\n",
       "      <td>2987000</td>\n",
       "      <td>0</td>\n",
       "      <td>86400</td>\n",
       "      <td>68.5</td>\n",
       "      <td>W</td>\n",
       "      <td>13926</td>\n",
       "      <td>NaN</td>\n",
       "      <td>150.0</td>\n",
       "      <td>discover</td>\n",
       "      <td>142.0</td>\n",
       "      <td>...</td>\n",
       "      <td>0.0</td>\n",
       "      <td>0.0</td>\n",
       "      <td>0.0</td>\n",
       "      <td>0.0</td>\n",
       "      <td>0.0</td>\n",
       "      <td>117.0</td>\n",
       "      <td>0.0</td>\n",
       "      <td>0.0</td>\n",
       "      <td>0.0</td>\n",
       "      <td>0.0</td>\n",
       "    </tr>\n",
       "    <tr>\n",
       "      <th>1</th>\n",
       "      <td>2987001</td>\n",
       "      <td>0</td>\n",
       "      <td>86401</td>\n",
       "      <td>29.0</td>\n",
       "      <td>W</td>\n",
       "      <td>2755</td>\n",
       "      <td>404.0</td>\n",
       "      <td>150.0</td>\n",
       "      <td>mastercard</td>\n",
       "      <td>102.0</td>\n",
       "      <td>...</td>\n",
       "      <td>0.0</td>\n",
       "      <td>0.0</td>\n",
       "      <td>0.0</td>\n",
       "      <td>0.0</td>\n",
       "      <td>0.0</td>\n",
       "      <td>0.0</td>\n",
       "      <td>0.0</td>\n",
       "      <td>0.0</td>\n",
       "      <td>0.0</td>\n",
       "      <td>0.0</td>\n",
       "    </tr>\n",
       "    <tr>\n",
       "      <th>2</th>\n",
       "      <td>2987002</td>\n",
       "      <td>0</td>\n",
       "      <td>86469</td>\n",
       "      <td>59.0</td>\n",
       "      <td>W</td>\n",
       "      <td>4663</td>\n",
       "      <td>490.0</td>\n",
       "      <td>150.0</td>\n",
       "      <td>visa</td>\n",
       "      <td>166.0</td>\n",
       "      <td>...</td>\n",
       "      <td>0.0</td>\n",
       "      <td>0.0</td>\n",
       "      <td>0.0</td>\n",
       "      <td>0.0</td>\n",
       "      <td>0.0</td>\n",
       "      <td>0.0</td>\n",
       "      <td>0.0</td>\n",
       "      <td>0.0</td>\n",
       "      <td>0.0</td>\n",
       "      <td>0.0</td>\n",
       "    </tr>\n",
       "    <tr>\n",
       "      <th>3</th>\n",
       "      <td>2987003</td>\n",
       "      <td>0</td>\n",
       "      <td>86499</td>\n",
       "      <td>50.0</td>\n",
       "      <td>W</td>\n",
       "      <td>18132</td>\n",
       "      <td>567.0</td>\n",
       "      <td>150.0</td>\n",
       "      <td>mastercard</td>\n",
       "      <td>117.0</td>\n",
       "      <td>...</td>\n",
       "      <td>135.0</td>\n",
       "      <td>0.0</td>\n",
       "      <td>0.0</td>\n",
       "      <td>0.0</td>\n",
       "      <td>50.0</td>\n",
       "      <td>1404.0</td>\n",
       "      <td>790.0</td>\n",
       "      <td>0.0</td>\n",
       "      <td>0.0</td>\n",
       "      <td>0.0</td>\n",
       "    </tr>\n",
       "    <tr>\n",
       "      <th>4</th>\n",
       "      <td>2987004</td>\n",
       "      <td>0</td>\n",
       "      <td>86506</td>\n",
       "      <td>50.0</td>\n",
       "      <td>H</td>\n",
       "      <td>4497</td>\n",
       "      <td>514.0</td>\n",
       "      <td>150.0</td>\n",
       "      <td>mastercard</td>\n",
       "      <td>102.0</td>\n",
       "      <td>...</td>\n",
       "      <td>0.0</td>\n",
       "      <td>0.0</td>\n",
       "      <td>0.0</td>\n",
       "      <td>0.0</td>\n",
       "      <td>0.0</td>\n",
       "      <td>0.0</td>\n",
       "      <td>0.0</td>\n",
       "      <td>0.0</td>\n",
       "      <td>0.0</td>\n",
       "      <td>0.0</td>\n",
       "    </tr>\n",
       "  </tbody>\n",
       "</table>\n",
       "<p>5 rows × 226 columns</p>\n",
       "</div>"
      ],
      "text/plain": [
       "   TransactionID  isFraud  TransactionDT  TransactionAmt ProductCD  card1  \\\n",
       "0        2987000        0          86400            68.5         W  13926   \n",
       "1        2987001        0          86401            29.0         W   2755   \n",
       "2        2987002        0          86469            59.0         W   4663   \n",
       "3        2987003        0          86499            50.0         W  18132   \n",
       "4        2987004        0          86506            50.0         H   4497   \n",
       "\n",
       "   card2  card3       card4  card5  ...   V312  V313  V314  V315  V316  \\\n",
       "0    NaN  150.0    discover  142.0  ...    0.0   0.0   0.0   0.0   0.0   \n",
       "1  404.0  150.0  mastercard  102.0  ...    0.0   0.0   0.0   0.0   0.0   \n",
       "2  490.0  150.0        visa  166.0  ...    0.0   0.0   0.0   0.0   0.0   \n",
       "3  567.0  150.0  mastercard  117.0  ...  135.0   0.0   0.0   0.0  50.0   \n",
       "4  514.0  150.0  mastercard  102.0  ...    0.0   0.0   0.0   0.0   0.0   \n",
       "\n",
       "     V317   V318  V319  V320  V321  \n",
       "0   117.0    0.0   0.0   0.0   0.0  \n",
       "1     0.0    0.0   0.0   0.0   0.0  \n",
       "2     0.0    0.0   0.0   0.0   0.0  \n",
       "3  1404.0  790.0   0.0   0.0   0.0  \n",
       "4     0.0    0.0   0.0   0.0   0.0  \n",
       "\n",
       "[5 rows x 226 columns]"
      ]
     },
     "execution_count": 5,
     "metadata": {},
     "output_type": "execute_result"
    }
   ],
   "source": [
    "train_df.head()"
   ]
  },
  {
   "cell_type": "markdown",
   "metadata": {},
   "source": [
    "# Data Imputation and Encoding\n",
    "\n",
    "In the initial phase of data preprocessing, missing values were addressed using the `SimpleImputer` class from the `sklearn.impute` module. Two separate imputation strategies were applied based on the data type of the features:\n",
    "\n",
    "## Numerical Imputation:\n",
    "\n",
    "Numerical features, identified using the `select_dtypes` method with `include=['int64', 'float64']`, were imputed using the median value strategy.\n",
    "\n",
    "- This step ensures that missing numerical data is replaced with the median value of the respective feature, thereby preserving the overall distribution of the data.\n",
    "\n",
    "\n",
    "## Categorical Imputation:\n",
    "\n",
    "Categorical features, identified similarly using the `select_dtypes` method with `include=['object']`, were imputed using a constant strategy with the value `'Unknown'`.\n",
    "\n",
    "- By imputing missing categorical data with a constant value, categorical integrity is maintained during subsequent analysis.\n",
    "\n"
   ]
  },
  {
   "cell_type": "code",
   "execution_count": 6,
   "metadata": {
    "execution": {
     "iopub.execute_input": "2024-04-30T02:03:45.261419Z",
     "iopub.status.busy": "2024-04-30T02:03:45.261069Z",
     "iopub.status.idle": "2024-04-30T02:04:09.166157Z",
     "shell.execute_reply": "2024-04-30T02:04:09.165338Z",
     "shell.execute_reply.started": "2024-04-30T02:03:45.261387Z"
    }
   },
   "outputs": [],
   "source": [
    "from sklearn.impute import SimpleImputer\n",
    "\n",
    "# Numerical imputation\n",
    "numerical_features = train_df.select_dtypes(include=['int64', 'float64']).columns\n",
    "numerical_imputer = SimpleImputer(strategy='median')\n",
    "train_df[numerical_features] = numerical_imputer.fit_transform(train_df[numerical_features])\n",
    "\n",
    "# Categorical imputation with 'Unknown'\n",
    "categorical_features = train_df.select_dtypes(include=['object']).columns\n",
    "categorical_imputer = SimpleImputer(strategy='constant', fill_value='Unknown')\n",
    "train_df[categorical_features] = categorical_imputer.fit_transform(train_df[categorical_features])\n"
   ]
  },
  {
   "cell_type": "markdown",
   "metadata": {},
   "source": [
    "\n",
    "\n",
    "### The following code provides a brief overview of the dataset's structure, data types, and memory usage. This sets the stage for further analysis and exploration.\n",
    "\n",
    "\n",
    "\n",
    "\n",
    "\n"
   ]
  },
  {
   "cell_type": "code",
   "execution_count": 7,
   "metadata": {
    "execution": {
     "iopub.execute_input": "2024-04-30T02:04:09.168020Z",
     "iopub.status.busy": "2024-04-30T02:04:09.167473Z",
     "iopub.status.idle": "2024-04-30T02:04:13.284578Z",
     "shell.execute_reply": "2024-04-30T02:04:13.283534Z",
     "shell.execute_reply.started": "2024-04-30T02:04:09.167989Z"
    }
   },
   "outputs": [
    {
     "name": "stdout",
     "output_type": "stream",
     "text": [
      "<class 'pandas.core.frame.DataFrame'>\n",
      "RangeIndex: 590540 entries, 0 to 590539\n",
      "Columns: 226 entries, TransactionID to V321\n",
      "dtypes: float64(213), object(13)\n",
      "memory usage: 1018.2+ MB\n"
     ]
    }
   ],
   "source": [
    "\n",
    "train_df.head()\n",
    "train_df.describe()\n",
    "train_df.info()\n"
   ]
  },
  {
   "cell_type": "markdown",
   "metadata": {},
   "source": [
    "## Analysis of Fraudulent Transactions Distribution\n",
    "\n",
    "The following analysis examines the distribution of fraudulent transactions within the dataset `train_df`.\n"
   ]
  },
  {
   "cell_type": "code",
   "execution_count": 8,
   "metadata": {
    "execution": {
     "iopub.execute_input": "2024-04-30T02:04:13.285968Z",
     "iopub.status.busy": "2024-04-30T02:04:13.285700Z",
     "iopub.status.idle": "2024-04-30T02:04:13.298002Z",
     "shell.execute_reply": "2024-04-30T02:04:13.296844Z",
     "shell.execute_reply.started": "2024-04-30T02:04:13.285945Z"
    }
   },
   "outputs": [
    {
     "name": "stdout",
     "output_type": "stream",
     "text": [
      "isFraud\n",
      "0.0    96.500999\n",
      "1.0     3.499001\n",
      "Name: proportion, dtype: float64\n"
     ]
    }
   ],
   "source": [
    "\n",
    "fraud_counts = train_df['isFraud'].value_counts(normalize=True) * 100\n",
    "\n",
    "\n",
    "print(fraud_counts)\n"
   ]
  },
  {
   "cell_type": "markdown",
   "metadata": {},
   "source": [
    "# Data Encoding for Modeling\n",
    "\n",
    "To prepare the dataset for machine learning modeling, categorical features were encoded using one-hot encoding. This transformation converts categorical variables into a numerical format suitable for predictive modeling while avoiding ordinal assumptions. The `get_dummies` function from the pandas library was utilized for this purpose.\n",
    "\n",
    "Finally, the dataset was split into training and testing sets using the `train_test_split` function from `sklearn.model_selection`, ensuring that both sets maintain the same proportion of fraudulent transactions (`stratify=y`) to prevent class imbalance issues during model training.\n"
   ]
  },
  {
   "cell_type": "code",
   "execution_count": 9,
   "metadata": {
    "execution": {
     "iopub.execute_input": "2024-04-30T02:04:13.299867Z",
     "iopub.status.busy": "2024-04-30T02:04:13.299515Z",
     "iopub.status.idle": "2024-04-30T02:04:16.135931Z",
     "shell.execute_reply": "2024-04-30T02:04:16.135041Z",
     "shell.execute_reply.started": "2024-04-30T02:04:13.299834Z"
    }
   },
   "outputs": [],
   "source": [
    "import pandas as pd\n",
    "from sklearn.model_selection import train_test_split\n",
    "\n",
    "\n",
    "categorical_cols = train_df.select_dtypes(include=['object']).columns.tolist()\n",
    "\n",
    "\n",
    "train_df_encoded = pd.get_dummies(train_df, columns=categorical_cols)\n",
    "\n"
   ]
  },
  {
   "cell_type": "markdown",
   "metadata": {},
   "source": [
    "## Importance of Feature-Target Split and Train-Test Split in Model Development\n",
    "\n",
    "The feature-target split and train-test split are essential steps in machine learning model development. These processes ensure that the model is trained on relevant data and evaluated rigorously to gauge its performance accurately. By following these best practices, practitioners can build robust and reliable machine learning models for fraud detection and other applications.\n",
    "\n",
    "### Feature-Target Split:\n",
    "\n",
    "The feature-target split involves separating the dataset into features (independent variables) and the target variable (dependent variable). This step is crucial as it identifies the variables used for prediction (features) and the variable to be predicted (target). In fraud detection, for example, features may include transaction details, while the target variable indicates whether the transaction is fraudulent or not. A clear feature-target split ensures that the model is trained to predict the target variable accurately based on the provided features.\n",
    "\n",
    "### Train-Test Split:\n",
    "\n",
    "The train-test split divides the dataset into two subsets: a training set and a testing set. The training set is used to train the machine learning model, while the testing set is used to evaluate its performance. This separation ensures that the model is assessed on data it has not seen during training, providing an unbiased estimate of its generalization ability. In fraud detection, this helps in determining how well the model performs in detecting fraudulent transactions on unseen data, which is crucial for real-world deployment.\n",
    "\n",
    "By adhering to these best practices, practitioners can develop machine learning models that are robust, reliable, and effective in solving real-world problems such as fraud detection. Additionally, these steps contribute to the overall credibility and trustworthiness of the model's predictions, enhancing its applicability in various domains.\n"
   ]
  },
  {
   "cell_type": "code",
   "execution_count": 10,
   "metadata": {
    "execution": {
     "iopub.execute_input": "2024-04-30T02:04:16.137440Z",
     "iopub.status.busy": "2024-04-30T02:04:16.137116Z",
     "iopub.status.idle": "2024-04-30T02:04:17.786865Z",
     "shell.execute_reply": "2024-04-30T02:04:17.785977Z",
     "shell.execute_reply.started": "2024-04-30T02:04:16.137413Z"
    }
   },
   "outputs": [],
   "source": [
    "\n",
    "X = train_df_encoded.drop('isFraud', axis=1)\n",
    "y = train_df_encoded['isFraud']\n",
    "\n",
    "\n",
    "X_train, X_test, y_train, y_test = train_test_split(X, y, test_size=0.2, stratify=y, random_state=42)\n"
   ]
  },
  {
   "cell_type": "markdown",
   "metadata": {},
   "source": [
    "# Random Forest Classifier Evaluation\n",
    "\n",
    "The Random Forest algorithm was applied to the dataset using a classifier with 50 decision trees (`n_estimators=50`). The trained model was then evaluated using various performance metrics to assess its predictive accuracy.\n",
    "\n",
    "## Performance Metrics:\n",
    "\n",
    "### Precision:\n",
    "Precision measures the accuracy of positive predictions. It is defined as the ratio of true positive predictions to the total number of positive predictions made by the model. The precision score obtained for the Random Forest model is approximately 0.9267, indicating that around 92.67% of the transactions predicted as fraudulent by the model are indeed fraudulent.\n",
    "\n",
    "### Recall:\n",
    "Recall, also known as sensitivity, quantifies the ability of the model to correctly identify all positive instances. It is calculated as the ratio of true positive predictions to the total number of actual positive instances in the dataset. The recall score achieved by the Random Forest model is approximately 0.4590, suggesting that the model captures around 45.90% of all actual fraudulent transactions.\n",
    "\n",
    "### F1 Score:\n",
    "The F1 score is the harmonic mean of precision and recall. It provides a single metric that balances both precision and recall, making it useful for evaluating models with imbalanced class distributions. The F1 score attained by the Random Forest model is approximately 0.6139, indicating a reasonable balance between precision and recall.\n",
    "\n",
    "### ROC AUC Score:\n",
    "The Receiver Operating Characteristic Area Under the Curve (ROC AUC) score evaluates the model's ability to discriminate between positive and negative classes across various threshold values. It measures the area under the ROC curve, with higher values indicating better discrimination performance. The Random Forest model achieves an ROC AUC score of approximately 0.9259, suggesting a high level of discrimination capability.\n",
    "\n",
    "## Conclusion:\n",
    "\n",
    "The Random Forest classifier demonstrates strong predictive performance, as evidenced by high precision, F1 score, and ROC AUC score. However, the relatively lower recall score indicates that there is room for improvement in capturing more true positive instances of fraudulent transactions. Further optimization of the model parameters or exploration of alternative algorithms may help enhance recall while maintaining high precision.\n"
   ]
  },
  {
   "cell_type": "markdown",
   "metadata": {},
   "source": [
    "****Random forest****"
   ]
  },
  {
   "cell_type": "code",
   "execution_count": 11,
   "metadata": {
    "execution": {
     "iopub.execute_input": "2024-04-30T02:04:17.788529Z",
     "iopub.status.busy": "2024-04-30T02:04:17.788236Z",
     "iopub.status.idle": "2024-04-30T02:06:51.194369Z",
     "shell.execute_reply": "2024-04-30T02:06:51.193383Z",
     "shell.execute_reply.started": "2024-04-30T02:04:17.788505Z"
    }
   },
   "outputs": [
    {
     "name": "stdout",
     "output_type": "stream",
     "text": [
      "\n",
      "Random Forest Metrics:\n",
      "Precision: 0.9288\n",
      "Recall: 0.4481\n",
      "F1 Score: 0.6045\n",
      "ROC AUC: 0.9232\n"
     ]
    }
   ],
   "source": [
    "from sklearn.ensemble import RandomForestClassifier\n",
    "from sklearn.metrics import precision_score, recall_score, f1_score, roc_auc_score\n",
    "\n",
    "\n",
    "forest_model = RandomForestClassifier(n_estimators=50)\n",
    "forest_model.fit(X_train, y_train)\n",
    "\n",
    "y_pred = forest_model.predict(X_test)\n",
    "y_pred_proba = forest_model.predict_proba(X_test)[:, 1]\n",
    "\n",
    "# Evaluation\n",
    "print(\"\\nRandom Forest Metrics:\")\n",
    "\n",
    "print(f\"Precision: {precision_score(y_test, y_pred):.4f}\")\n",
    "print(f\"Recall: {recall_score(y_test, y_pred):.4f}\")\n",
    "print(f\"F1 Score: {f1_score(y_test, y_pred):.4f}\")\n",
    "print(f\"ROC AUC: {roc_auc_score(y_test, y_pred_proba):.4f}\")\n"
   ]
  },
  {
   "cell_type": "markdown",
   "metadata": {},
   "source": [
    "# XGBoost Classifier Evaluation with PCA\n",
    "\n",
    "The XGBoost algorithm was applied to the dataset after performing Principal Component Analysis (PCA) for dimensionality reduction. PCA was employed to reduce the number of features while preserving 95% of the variance in the dataset. The trained XGBoost model was then evaluated using various performance metrics to assess its predictive accuracy.\n",
    "\n",
    "## Preprocessing:\n",
    "\n",
    "### Standardization:\n",
    "The features were standardized using the `StandardScaler` to ensure that each feature has a mean of 0 and a standard deviation of 1, thus normalizing the feature values.\n",
    "\n",
    "### Principal Component Analysis (PCA):\n",
    "PCA was utilized to reduce the dimensionality of the dataset while retaining 95% of the variance. This helps in reducing computational complexity while retaining the most important information in the data.\n",
    "\n",
    "## Model Training and Evaluation:\n",
    "\n",
    "### Train-Test Split:\n",
    "The dataset was split into training and testing sets using a test size of 20%. This allows for the model's performance to be evaluated on unseen data.\n",
    "\n",
    "### Imbalanced Class Handling:\n",
    "Since the dataset is imbalanced with significantly more negative instances (non-fraudulent transactions) than positive instances (fraudulent transactions), the `scale_pos_weight` parameter was adjusted accordingly in the XGBoost classifier to address this class imbalance.\n",
    "\n",
    "## Performance Metrics:\n",
    "\n",
    "The trained XGBoost model was evaluated using the following performance metrics:\n",
    "\n",
    "- Precision: 0.2397\n",
    "- Recall: 0.7329\n",
    "- F1 Score: 0.3612\n",
    "- ROC AUC Score: 0.9063\n",
    "\n",
    "## Conclusion:\n",
    "\n",
    "The XGBoost classifier, coupled with PCA for dimensionality reduction and handling of imbalanced classes, demonstrates promising performance in detecting fraudulent transactions. The model achieves relatively high recall, indicating its ability to correctly identify a significant portion of actual fraudulent transactions. However, the precision and F1 score suggest room for improvement in reducing false positives and achieving a better balance between precision and recall.\n"
   ]
  },
  {
   "cell_type": "code",
   "execution_count": 12,
   "metadata": {
    "execution": {
     "iopub.execute_input": "2024-04-30T02:06:51.196164Z",
     "iopub.status.busy": "2024-04-30T02:06:51.195778Z",
     "iopub.status.idle": "2024-04-30T02:06:51.468053Z",
     "shell.execute_reply": "2024-04-30T02:06:51.467262Z",
     "shell.execute_reply.started": "2024-04-30T02:06:51.196128Z"
    }
   },
   "outputs": [],
   "source": [
    "import numpy as np\n",
    "import pandas as pd\n",
    "import gc\n",
    "from sklearn.decomposition import PCA\n",
    "from sklearn.preprocessing import StandardScaler\n",
    "from sklearn.model_selection import train_test_split\n",
    "from sklearn.metrics import precision_score, recall_score, f1_score, roc_auc_score, precision_recall_curve\n",
    "import xgboost as xgb\n",
    "from imblearn.over_sampling import ADASYN\n",
    "from sklearn.model_selection import train_test_split\n",
    "from sklearn.preprocessing import StandardScaler\n",
    "from sklearn.decomposition import PCA\n",
    "import xgboost as xgb\n",
    "from sklearn.metrics import precision_score, recall_score, f1_score, roc_auc_score\n"
   ]
  },
  {
   "cell_type": "code",
   "execution_count": 13,
   "metadata": {
    "execution": {
     "iopub.execute_input": "2024-04-30T02:06:51.469557Z",
     "iopub.status.busy": "2024-04-30T02:06:51.469114Z",
     "iopub.status.idle": "2024-04-30T02:07:08.014785Z",
     "shell.execute_reply": "2024-04-30T02:07:08.013945Z",
     "shell.execute_reply.started": "2024-04-30T02:06:51.469532Z"
    }
   },
   "outputs": [],
   "source": [
    "X = train_df_encoded.drop('isFraud', axis=1)\n",
    "y = train_df_encoded['isFraud']\n",
    "\n",
    "# Standardizing the features\n",
    "scaler = StandardScaler()\n",
    "X_scaled = scaler.fit_transform(X)\n"
   ]
  },
  {
   "cell_type": "code",
   "execution_count": 14,
   "metadata": {
    "execution": {
     "iopub.execute_input": "2024-04-30T02:07:08.018506Z",
     "iopub.status.busy": "2024-04-30T02:07:08.018208Z",
     "iopub.status.idle": "2024-04-30T02:07:26.865923Z",
     "shell.execute_reply": "2024-04-30T02:07:26.865031Z",
     "shell.execute_reply.started": "2024-04-30T02:07:08.018480Z"
    }
   },
   "outputs": [
    {
     "data": {
      "text/plain": [
       "0"
      ]
     },
     "execution_count": 14,
     "metadata": {},
     "output_type": "execute_result"
    }
   ],
   "source": [
    "pca = PCA(n_components=0.95)\n",
    "X_pca = pca.fit_transform(X_scaled)\n",
    "\n",
    "# Clear memory\n",
    "del X_scaled, train_df_encoded\n",
    "gc.collect()\n"
   ]
  },
  {
   "cell_type": "code",
   "execution_count": 15,
   "metadata": {
    "execution": {
     "iopub.execute_input": "2024-04-30T02:07:26.867238Z",
     "iopub.status.busy": "2024-04-30T02:07:26.866973Z",
     "iopub.status.idle": "2024-04-30T02:07:28.010370Z",
     "shell.execute_reply": "2024-04-30T02:07:28.009440Z",
     "shell.execute_reply.started": "2024-04-30T02:07:26.867215Z"
    }
   },
   "outputs": [
    {
     "data": {
      "text/plain": [
       "0"
      ]
     },
     "execution_count": 15,
     "metadata": {},
     "output_type": "execute_result"
    }
   ],
   "source": [
    "X_train, X_test, y_train, y_test = train_test_split(X_pca, y, test_size=0.2, random_state=42)\n",
    "\n",
    "# Clear memory\n",
    "del X_pca\n",
    "gc.collect()\n"
   ]
  },
  {
   "cell_type": "code",
   "execution_count": 16,
   "metadata": {
    "execution": {
     "iopub.execute_input": "2024-04-30T02:07:28.012054Z",
     "iopub.status.busy": "2024-04-30T02:07:28.011662Z",
     "iopub.status.idle": "2024-04-30T02:07:52.941906Z",
     "shell.execute_reply": "2024-04-30T02:07:52.940978Z",
     "shell.execute_reply.started": "2024-04-30T02:07:28.012020Z"
    }
   },
   "outputs": [
    {
     "data": {
      "text/plain": [
       "44"
      ]
     },
     "execution_count": 16,
     "metadata": {},
     "output_type": "execute_result"
    }
   ],
   "source": [
    "\n",
    "negative_instances = sum(y == 0)\n",
    "positive_instances = sum(y == 1)\n",
    "\n",
    "# Now, use these counts to set the 'scale_pos_weight' parameter\n",
    "model = xgb.XGBClassifier(scale_pos_weight=negative_instances / positive_instances)\n",
    "model.fit(X_train, y_train)\n",
    "\n",
    "gc.collect()"
   ]
  },
  {
   "cell_type": "code",
   "execution_count": 17,
   "metadata": {
    "execution": {
     "iopub.execute_input": "2024-04-30T02:07:52.943504Z",
     "iopub.status.busy": "2024-04-30T02:07:52.943121Z",
     "iopub.status.idle": "2024-04-30T02:07:53.575687Z",
     "shell.execute_reply": "2024-04-30T02:07:53.574669Z",
     "shell.execute_reply.started": "2024-04-30T02:07:52.943470Z"
    }
   },
   "outputs": [
    {
     "name": "stdout",
     "output_type": "stream",
     "text": [
      "XGBoost Metrics:\n",
      "Precision: 0.2397\n",
      "Recall: 0.7329\n",
      "F1 Score: 0.3612\n",
      "ROC AUC: 0.9063\n"
     ]
    },
    {
     "data": {
      "text/plain": [
       "0"
      ]
     },
     "execution_count": 17,
     "metadata": {},
     "output_type": "execute_result"
    }
   ],
   "source": [
    "y_pred = model.predict(X_test)\n",
    "y_pred_proba = model.predict_proba(X_test)[:, 1]\n",
    "\n",
    "print(\"XGBoost Metrics:\")\n",
    "print(f\"Precision: {precision_score(y_test, y_pred):.4f}\")\n",
    "print(f\"Recall: {recall_score(y_test, y_pred):.4f}\")\n",
    "print(f\"F1 Score: {f1_score(y_test, y_pred):.4f}\")\n",
    "print(f\"ROC AUC: {roc_auc_score(y_test, y_pred_proba):.4f}\")\n",
    "\n",
    "# Clear memory\n",
    "gc.collect()\n"
   ]
  },
  {
   "cell_type": "markdown",
   "metadata": {},
   "source": [
    "# Applying SMOTE for Imbalanced Data\n",
    "\n",
    "## Introduction:\n",
    "\n",
    "In the context of fraud detection, imbalanced datasets pose a significant challenge as the instances of fraudulent transactions are often rare compared to non-fraudulent ones. Addressing this class imbalance is crucial to ensure the effectiveness of predictive models. Synthetic Minority Over-sampling Technique (SMOTE) is a widely used approach to mitigate class imbalance by oversampling the minority class.\n",
    "\n",
    "## Methodology:\n",
    "\n",
    "### Data Preprocessing:\n",
    "- The training and testing datasets were standardized using the `StandardScaler` to ensure that all features have a mean of 0 and a standard deviation of 1.\n",
    "\n",
    "### SMOTE Oversampling:\n",
    "- SMOTE was applied to the standardized training data (`X_train_scaled` and `y_train`) to generate synthetic samples for the minority class (fraudulent transactions). This helps in balancing the class distribution in the training data.\n",
    "\n",
    "### Model Training:\n",
    "- The XGBoost classifier was trained on the SMOTE-augmented training data (`X_train_smote` and `y_train_smote`) to learn patterns and relationships in the data.\n",
    "\n",
    "### Model Evaluation:\n",
    "- The trained XGBoost model was evaluated using various performance metrics to assess its effectiveness in detecting fraudulent transactions:\n",
    "  - Precision: 0.2245\n",
    "  - Recall: 0.7315\n",
    "  - F1 Score: 0.3436\n",
    "  - ROC AUC Score: 0.9045\n",
    "\n",
    "## Results and Discussion:\n",
    "\n",
    "- The XGBoost model trained on SMOTE-augmented data demonstrates improved recall compared to the model trained on the original imbalanced data, indicating its ability to correctly identify a higher proportion of actual fraudulent transactions.\n",
    "- However, there is a slight decrease in precision and F1 score, which suggests that the model may generate more false positives when classifying transactions.\n",
    "- The ROC AUC score remains relatively high, indicating good discriminative ability of the model in distinguishing between positive and negative instances.\n",
    "\n",
    "## Conclusion:\n",
    "\n",
    "Applying SMOTE to address class imbalance in the training data has resulted in an XGBoost model with improved recall for detecting fraudulent transactions. While there is a trade-off with precision, the overall performance metrics suggest that the SMOTE-augmented model is more effective in identifying fraudulent transactions, thereby enhancing the fraud detection capabilities. Further fine-tuning of the model parameters and exploration of additional techniques may lead to even better performance.\n"
   ]
  },
  {
   "cell_type": "markdown",
   "metadata": {},
   "source": [
    " **Applying Smote **"
   ]
  },
  {
   "cell_type": "code",
   "execution_count": 18,
   "metadata": {
    "execution": {
     "iopub.execute_input": "2024-04-30T02:07:53.577107Z",
     "iopub.status.busy": "2024-04-30T02:07:53.576835Z",
     "iopub.status.idle": "2024-04-30T02:07:54.620538Z",
     "shell.execute_reply": "2024-04-30T02:07:54.619403Z",
     "shell.execute_reply.started": "2024-04-30T02:07:53.577083Z"
    }
   },
   "outputs": [],
   "source": [
    "scaler = StandardScaler()\n",
    "X_train_scaled = scaler.fit_transform(X_train)\n",
    "X_test_scaled = scaler.transform(X_test)\n"
   ]
  },
  {
   "cell_type": "code",
   "execution_count": 19,
   "metadata": {
    "execution": {
     "iopub.execute_input": "2024-04-30T02:07:54.622155Z",
     "iopub.status.busy": "2024-04-30T02:07:54.621788Z",
     "iopub.status.idle": "2024-04-30T02:07:58.097067Z",
     "shell.execute_reply": "2024-04-30T02:07:58.095576Z",
     "shell.execute_reply.started": "2024-04-30T02:07:54.622119Z"
    }
   },
   "outputs": [
    {
     "ename": "NameError",
     "evalue": "name 'XGBClassifier' is not defined",
     "output_type": "error",
     "traceback": [
      "\u001b[0;31m---------------------------------------------------------------------------\u001b[0m",
      "\u001b[0;31mNameError\u001b[0m                                 Traceback (most recent call last)",
      "Cell \u001b[0;32mIn[19], line 8\u001b[0m\n\u001b[1;32m      5\u001b[0m X_train_smote, y_train_smote \u001b[38;5;241m=\u001b[39m smote\u001b[38;5;241m.\u001b[39mfit_resample(X_train_scaled, y_train)\n\u001b[1;32m      7\u001b[0m \u001b[38;5;66;03m# Training the XGBoost model\u001b[39;00m\n\u001b[0;32m----> 8\u001b[0m model \u001b[38;5;241m=\u001b[39m \u001b[43mXGBClassifier\u001b[49m(random_state\u001b[38;5;241m=\u001b[39m\u001b[38;5;241m42\u001b[39m)\n\u001b[1;32m      9\u001b[0m model\u001b[38;5;241m.\u001b[39mfit(X_train_smote, y_train_smote)\n",
      "\u001b[0;31mNameError\u001b[0m: name 'XGBClassifier' is not defined"
     ]
    }
   ],
   "source": [
    "# Applying SMOTE\n",
    "from imblearn.over_sampling import SMOTE\n",
    "\n",
    "smote = SMOTE(random_state=42)\n",
    "X_train_smote, y_train_smote = smote.fit_resample(X_train_scaled, y_train)\n",
    "\n",
    "# Training the XGBoost model\n",
    "model = XGBClassifier(random_state=42)\n",
    "model.fit(X_train_smote, y_train_smote)"
   ]
  },
  {
   "cell_type": "code",
   "execution_count": 20,
   "metadata": {
    "execution": {
     "iopub.execute_input": "2024-04-30T02:08:14.837025Z",
     "iopub.status.busy": "2024-04-30T02:08:14.836306Z",
     "iopub.status.idle": "2024-04-30T02:08:15.394130Z",
     "shell.execute_reply": "2024-04-30T02:08:15.393226Z",
     "shell.execute_reply.started": "2024-04-30T02:08:14.836988Z"
    }
   },
   "outputs": [
    {
     "name": "stdout",
     "output_type": "stream",
     "text": [
      "XGBoost Metrics:\n",
      "Precision: 0.1725\n",
      "Recall: 0.6572\n",
      "F1 Score: 0.2732\n",
      "ROC AUC: 0.8606\n"
     ]
    }
   ],
   "source": [
    "# Making predictions\n",
    "y_pred = model.predict(X_test_scaled)\n",
    "y_pred_proba = model.predict_proba(X_test_scaled)[:, 1]\n",
    "\n",
    "# Evaluating the model\n",
    "precision = precision_score(y_test, y_pred)\n",
    "recall = recall_score(y_test, y_pred)\n",
    "f1 = f1_score(y_test, y_pred)\n",
    "roc_auc = roc_auc_score(y_test, y_pred_proba)\n",
    "\n",
    "print(\"XGBoost Metrics:\")\n",
    "print(f\"Precision: {precision:.4f}\")\n",
    "print(f\"Recall: {recall:.4f}\")\n",
    "print(f\"F1 Score: {f1:.4f}\")\n",
    "print(f\"ROC AUC: {roc_auc:.4f}\")"
   ]
  },
  {
   "cell_type": "markdown",
   "metadata": {},
   "source": [
    "# XGBoost Model Evaluation and Threshold Adjustment\n",
    "\n",
    "## Model Training:\n",
    "\n",
    "The XGBoost classifier was trained on the preprocessed dataset, utilizing Synthetic Minority Over-sampling Technique (SMOTE) to address class imbalance.\n",
    "\n",
    "## Evaluation Metrics:\n",
    "\n",
    "### Best Threshold Selection:\n",
    "\n",
    "The model's performance was evaluated using precision-recall curves, focusing on optimizing the F1 score. The best threshold was determined to be 0.820687, achieving an F1 score of 0.508.\n",
    "\n",
    "### Adjusted Metrics:\n",
    "\n",
    "After adjusting the classification threshold, the model's performance was reassessed using precision, recall, F1 score, and ROC AUC metrics.\n",
    "\n",
    "## Performance Metrics:\n",
    "\n",
    "- **Precision:** Precision score reflects the proportion of true positive predictions out of all positive predictions made by the model.\n",
    "- **Recall:** Recall score indicates the proportion of true positive predictions out of all actual positive instances.\n",
    "- **F1 Score:** F1 score represents the harmonic mean of precision and recall, providing a balance between the two metrics.\n",
    "- **ROC AUC:** ROC AUC score measures the model's ability to discriminate between positive and negative instances across different threshold values.\n",
    "\n",
    "## Feature Importance:\n",
    "\n",
    "The top 10 most important features contributing to the model's predictive performance were visualized using the XGBoost `plot_importance` function.\n",
    "\n",
    "## Conclusion:\n",
    "\n",
    "The XGBoost model demonstrates promising performance in detecting fraudulent transactions, especially after threshold adjustment. By optimizing the classification threshold, the model achieves a better balance between precision and recall, crucial for effectively identifying fraudulent activities while minimizing false positives.\n",
    "\n",
    "This report provides a comprehensive overview of the XGBoost model's evaluation and threshold adjustment process, highlighting its performance and feature importance in detecting fraudulent transactions.\n"
   ]
  },
  {
   "cell_type": "code",
   "execution_count": 21,
   "metadata": {
    "execution": {
     "iopub.execute_input": "2024-04-30T02:08:23.081223Z",
     "iopub.status.busy": "2024-04-30T02:08:23.080332Z",
     "iopub.status.idle": "2024-04-30T02:09:09.042571Z",
     "shell.execute_reply": "2024-04-30T02:09:09.041562Z",
     "shell.execute_reply.started": "2024-04-30T02:08:23.081176Z"
    }
   },
   "outputs": [
    {
     "name": "stdout",
     "output_type": "stream",
     "text": [
      "Best Threshold=0.820687, F1 Score=0.508\n"
     ]
    },
    {
     "data": {
      "image/png": "[encoded data removed]",
      "text/plain": [
       "<Figure size 640x480 with 1 Axes>"
      ]
     },
     "metadata": {},
     "output_type": "display_data"
    },
    {
     "name": "stdout",
     "output_type": "stream",
     "text": [
      "Adjusted Metrics:\n",
      "Precision: 0.5386\n",
      "Recall: 0.4802\n",
      "F1 Score: 0.5077\n",
      "ROC AUC: 0.9045\n"
     ]
    },
    {
     "data": {
      "text/plain": [
       "<Figure size 1000x800 with 0 Axes>"
      ]
     },
     "metadata": {},
     "output_type": "display_data"
    },
    {
     "data": {
      "image/png": "[encoded data removed]",
      "text/plain": [
       "<Figure size 640x480 with 1 Axes>"
      ]
     },
     "metadata": {},
     "output_type": "display_data"
    }
   ],
   "source": [
    "import numpy as np\n",
    "import pandas as pd\n",
    "from sklearn.metrics import precision_recall_curve, f1_score, accuracy_score, roc_auc_score, confusion_matrix\n",
    "import matplotlib.pyplot as plt\n",
    "from xgboost import XGBClassifier, plot_importance\n",
    "\n",
    " \n",
    "\n",
    "# Train the XGBoost model\n",
    "model = XGBClassifier(random_state=42)\n",
    "model.fit(X_train_smote, y_train_smote)\n",
    "\n",
    "# Predict probabilities\n",
    "y_pred_proba = model.predict_proba(X_test_scaled)[:, 1]\n",
    "\n",
    "# Calculate precision, recall, and thresholds\n",
    "precision, recall, thresholds = precision_recall_curve(y_test, y_pred_proba)\n",
    "\n",
    "# Calculate F1 scores for each threshold\n",
    "f1_scores = 2 * (precision * recall) / (precision + recall)\n",
    "# Locate the index of the largest F1 score\n",
    "ix = np.argmax(f1_scores)\n",
    "print('Best Threshold=%f, F1 Score=%.3f' % (thresholds[ix], f1_scores[ix]))\n",
    "\n",
    "# Plot the precision-recall vs threshold chart\n",
    "plt.plot(thresholds, precision[:-1], 'r-', label='Precision')\n",
    "plt.plot(thresholds, recall[:-1], 'b-', label='Recall')\n",
    "plt.plot(thresholds, f1_scores[:-1], 'g-', label='F1 Score')\n",
    "plt.xlabel('Threshold')\n",
    "plt.legend()\n",
    "plt.show()\n",
    "\n",
    "# Adjust the classification threshold\n",
    "threshold_adjusted = thresholds[ix]\n",
    "y_pred_adjusted = (y_pred_proba >= threshold_adjusted).astype(int)\n",
    "\n",
    "# Evaluate the model with the new threshold\n",
    "print(\"Adjusted Metrics:\")\n",
    "print(\"Precision: {:.4f}\".format(precision_score(y_test, y_pred_adjusted)))\n",
    "print(\"Recall: {:.4f}\".format(recall_score(y_test, y_pred_adjusted)))\n",
    "print(\"F1 Score: {:.4f}\".format(f1_score(y_test, y_pred_adjusted)))\n",
    "print(\"ROC AUC: {:.4f}\".format(roc_auc_score(y_test, y_pred_proba)))\n",
    "\n",
    "# Feature importance\n",
    "plt.figure(figsize=(10, 8))\n",
    "plot_importance(model, max_num_features=10)  \n",
    "plt.show()\n"
   ]
  }
 ],
 "metadata": {
  "kaggle": {
   "accelerator": "gpu",
   "dataSources": [
    {
     "databundleVersionId": 568274,
     "sourceId": 14242,
     "sourceType": "competition"
    }
   ],
   "dockerImageVersionId": 30648,
   "isGpuEnabled": true,
   "isInternetEnabled": true,
   "language": "python",
   "sourceType": "notebook"
  },
  "kernelspec": {
   "display_name": "Python 3 (ipykernel)",
   "language": "python",
   "name": "python3"
  },
  "language_info": {
   "codemirror_mode": {
    "name": "ipython",
    "version": 3
   },
   "file_extension": ".py",
   "mimetype": "text/x-python",
   "name": "python",
   "nbconvert_exporter": "python",
   "pygments_lexer": "ipython3",
   "version": "3.11.5"
  }
 },
 "nbformat": 4,
 "nbformat_minor": 4
}
